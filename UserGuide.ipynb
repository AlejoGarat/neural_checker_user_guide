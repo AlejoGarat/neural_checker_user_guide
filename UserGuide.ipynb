{
 "cells": [
  {
   "cell_type": "code",
   "execution_count": 2,
   "metadata": {},
   "outputs": [
    {
     "name": "stdout",
     "output_type": "stream",
     "text": [
      "Requirement already satisfied: pythautomata in c:\\users\\alejo\\appdata\\local\\programs\\python\\python39\\lib\\site-packages (0.21.0)\n",
      "Requirement already satisfied: graphviz in c:\\users\\alejo\\appdata\\local\\programs\\python\\python39\\lib\\site-packages (from pythautomata) (0.20.1)Note: you may need to restart the kernel to use updated packages.\n",
      "Requirement already satisfied: scipy<2.0.0,>=1.7.3 in c:\\users\\alejo\\appdata\\local\\programs\\python\\python39\\lib\\site-packages (from pythautomata) (1.9.3)\n",
      "Requirement already satisfied: numpy in c:\\users\\alejo\\appdata\\local\\programs\\python\\python39\\lib\\site-packages (from pythautomata) (1.19.5)\n",
      "\n"
     ]
    },
    {
     "name": "stderr",
     "output_type": "stream",
     "text": [
      "\n",
      "[notice] A new release of pip available: 22.3 -> 22.3.1\n",
      "[notice] To update, run: python.exe -m pip install --upgrade pip\n"
     ]
    },
    {
     "name": "stdout",
     "output_type": "stream",
     "text": [
      "Requirement already satisfied: sklearn<0.1,>=0.0 in c:\\users\\alejo\\appdata\\local\\programs\\python\\python39\\lib\\site-packages (from pythautomata) (0.0)\n",
      "Requirement already satisfied: scikit-learn in c:\\users\\alejo\\appdata\\local\\programs\\python\\python39\\lib\\site-packages (from sklearn<0.1,>=0.0->pythautomata) (0.24.2)\n",
      "Requirement already satisfied: threadpoolctl>=2.0.0 in c:\\users\\alejo\\appdata\\local\\programs\\python\\python39\\lib\\site-packages (from scikit-learn->sklearn<0.1,>=0.0->pythautomata) (2.2.0)\n",
      "Requirement already satisfied: joblib>=0.11 in c:\\users\\alejo\\appdata\\local\\programs\\python\\python39\\lib\\site-packages (from scikit-learn->sklearn<0.1,>=0.0->pythautomata) (1.0.1)\n"
     ]
    }
   ],
   "source": [
    "%pip install pythautomata"
   ]
  },
  {
   "cell_type": "markdown",
   "metadata": {},
   "source": [
    "### Creating a moore machine"
   ]
  },
  {
   "cell_type": "markdown",
   "metadata": {},
   "source": [
    "#### Dependencies"
   ]
  },
  {
   "cell_type": "code",
   "execution_count": 17,
   "metadata": {},
   "outputs": [],
   "source": [
    "from pythautomata.base_types.alphabet import Alphabet\n",
    "from pythautomata.base_types.moore_state import MooreState\n",
    "from pythautomata.base_types.symbol import SymbolStr\n",
    "from pythautomata.automata.moore_machine_automaton import MooreMachineAutomaton\n",
    "from pythautomata.model_comparators.moore_machine_comparison_strategy import MooreMachineComparisonStrategy as ComparisonStrategy\n",
    "from pythautomata.model_exporters.dot_exporting_mm_strategy import DotExportingMMStrategy"
   ]
  },
  {
   "cell_type": "markdown",
   "metadata": {},
   "source": [
    "#### Implementation"
   ]
  },
  {
   "cell_type": "code",
   "execution_count": 7,
   "metadata": {},
   "outputs": [
    {
     "name": "stdout",
     "output_type": "stream",
     "text": [
      "Unexpected exception when exporting moore machine with 3 states: <class 'AttributeError'>\n"
     ]
    }
   ],
   "source": [
    "# Input alphabet with symbols a, b and c\n",
    "input_alphabet = Alphabet(frozenset((SymbolStr('a'), SymbolStr('b'), SymbolStr('c'))))\n",
    "# Output alphabet with symbols 0 and 1\n",
    "output_alphabet = Alphabet(frozenset((SymbolStr('0'), SymbolStr('1'))))\n",
    "\n",
    "a = input_alphabet['a']\n",
    "b = input_alphabet['b']\n",
    "c = input_alphabet['c']\n",
    "\n",
    "# Define states\n",
    "stateA = MooreState(\"State A\", output_alphabet['0'])\n",
    "stateB = MooreState(\"State B\", output_alphabet['1'])\n",
    "stateC = MooreState(\"State C\", output_alphabet['1'])\n",
    "\n",
    "# Add transitions\n",
    "stateA.add_transition(a, stateA)\n",
    "stateA.add_transition(b, stateB)\n",
    "stateB.add_transition(a, stateC)\n",
    "stateB.add_transition(c, stateB)\n",
    "\n",
    "# Hole state\n",
    "hole_state = MooreState(name=\"hole\", value=SymbolStr('0'))\n",
    "\n",
    "moore_machine = MooreMachineAutomaton(input_alphabet, output_alphabet, stateA, set([stateA, stateB, stateC]), ComparisonStrategy, \"moore machine with 3 states\", [DotExportingMMStrategy])\n",
    "\n",
    "# Moore machine is generated in the directory ./output_models/moore_machines/\n",
    "moore_machine.export('./output_models/moore_machines/')"
   ]
  },
  {
   "cell_type": "markdown",
   "metadata": {},
   "source": [
    "### Moore machine generator"
   ]
  },
  {
   "cell_type": "markdown",
   "metadata": {},
   "source": [
    "#### Dependencies"
   ]
  },
  {
   "cell_type": "code",
   "execution_count": 18,
   "metadata": {},
   "outputs": [],
   "source": [
    "from pythautomata.utilities.nicaud_mm_generator import generate_moore_machine"
   ]
  },
  {
   "cell_type": "markdown",
   "metadata": {},
   "source": [
    "#### Implementation"
   ]
  },
  {
   "cell_type": "code",
   "execution_count": 9,
   "metadata": {},
   "outputs": [
    {
     "name": "stdout",
     "output_type": "stream",
     "text": [
      "Unexpected exception when exporting Moore Machine - 0f982dfc1d424b3cb1050837ab3f9a0d: <class 'graphviz.backend.execute.ExecutableNotFound'>\n"
     ]
    }
   ],
   "source": [
    "# Amount of states\n",
    "size = 20\n",
    "\n",
    "generated_moore_machine = generate_moore_machine(input_alphabet, output_alphabet, size)\n",
    "\n",
    "# Moore machine is generated in the directory ./output_models/moore_machines/\n",
    "generated_moore_machine.export('./output_models/moore_machines/')"
   ]
  },
  {
   "cell_type": "markdown",
   "metadata": {},
   "source": [
    "### DFA - moore machine comparator and converter"
   ]
  },
  {
   "cell_type": "markdown",
   "metadata": {},
   "source": [
    "#### Dependencies"
   ]
  },
  {
   "cell_type": "code",
   "execution_count": 14,
   "metadata": {},
   "outputs": [],
   "source": [
    "from pythautomata.utilities.automata_converter import AutomataConverter\n",
    "from pythautomata.automata_definitions.tomitas_grammars import TomitasGrammars\n",
    "from pythautomata.automata_definitions.sample_moore_machines import SampleMooreMachines"
   ]
  },
  {
   "cell_type": "markdown",
   "metadata": {},
   "source": [
    "#### Implementation"
   ]
  },
  {
   "cell_type": "code",
   "execution_count": 15,
   "metadata": {},
   "outputs": [
    {
     "data": {
      "text/plain": [
       "True"
      ]
     },
     "execution_count": 15,
     "metadata": {},
     "output_type": "execute_result"
    }
   ],
   "source": [
    "# Tomitas DFA example\n",
    "tomitas = TomitasGrammars.get_automaton_1()\n",
    "\n",
    "# Convert DFA to moore machine\n",
    "converted_moore_machine = AutomataConverter.convert_dfa_to_moore_machine(tomitas)\n",
    "\n",
    "# Tomitas moore machine\n",
    "tomitas_moore_machine = SampleMooreMachines.get_tomitas_automaton_1()\n",
    "\n",
    "# Comparate automatons\n",
    "converted_moore_machine.__eq__(tomitas_moore_machine)"
   ]
  },
  {
   "cell_type": "code",
   "execution_count": 16,
   "metadata": {},
   "outputs": [
    {
     "name": "stdout",
     "output_type": "stream",
     "text": [
      "Collecting pymodelextractorNote: you may need to restart the kernel to use updated packages.\n",
      "  Downloading pymodelextractor-0.15.5-py3-none-any.whl (69 kB)\n",
      "     ---------------------------------------- 69.4/69.4 kB 1.9 MB/s eta 0:00:00\n",
      "Collecting pythautomata<0.20.0,>=0.19.9\n",
      "  Downloading pythautomata-0.19.9-py3-none-any.whl (78 kB)\n",
      "     ---------------------------------------- 78.8/78.8 kB 4.3 MB/s eta 0:00:00\n",
      "Requirement already satisfied: sklearn<0.1,>=0.0 in c:\\users\\alejo\\appdata\\local\\programs\\python\\python39\\lib\\site-packages (from pythautomata<0.20.0,>=0.19.9->pymodelextractor) (0.0)\n",
      "Requirement already satisfied: numpy in c:\\users\\alejo\\appdata\\local\\programs\\python\\python39\\lib\\site-packages (from pythautomata<0.20.0,>=0.19.9->pymodelextractor) (1.19.5)\n",
      "Requirement already satisfied: scipy<2.0.0,>=1.7.3 in c:\\users\\alejo\\appdata\\local\\programs\\python\\python39\\lib\\site-packages (from pythautomata<0.20.0,>=0.19.9->pymodelextractor) (1.9.3)\n",
      "Requirement already satisfied: graphviz in c:\\users\\alejo\\appdata\\local\\programs\\python\\python39\\lib\\site-packages (from pythautomata<0.20.0,>=0.19.9->pymodelextractor) (0.20.1)\n",
      "Requirement already satisfied: scikit-learn in c:\\users\\alejo\\appdata\\local\\programs\\python\\python39\\lib\\site-packages (from sklearn<0.1,>=0.0->pythautomata<0.20.0,>=0.19.9->pymodelextractor) (0.24.2)\n",
      "\n",
      "Requirement already satisfied: joblib>=0.11 in c:\\users\\alejo\\appdata\\local\\programs\\python\\python39\\lib\\site-packages (from scikit-learn->sklearn<0.1,>=0.0->pythautomata<0.20.0,>=0.19.9->pymodelextractor) (1.0.1)\n",
      "Requirement already satisfied: threadpoolctl>=2.0.0 in c:\\users\\alejo\\appdata\\local\\programs\\python\\python39\\lib\\site-packages (from scikit-learn->sklearn<0.1,>=0.0->pythautomata<0.20.0,>=0.19.9->pymodelextractor) (2.2.0)\n",
      "Installing collected packages: pythautomata, pymodelextractor\n",
      "  Attempting uninstall: pythautomata\n",
      "    Found existing installation: pythautomata 0.21.0\n",
      "    Uninstalling pythautomata-0.21.0:\n",
      "      Successfully uninstalled pythautomata-0.21.0\n",
      "Successfully installed pymodelextractor-0.15.5 pythautomata-0.19.9\n"
     ]
    },
    {
     "name": "stderr",
     "output_type": "stream",
     "text": [
      "\n",
      "[notice] A new release of pip available: 22.3 -> 22.3.1\n",
      "[notice] To update, run: python.exe -m pip install --upgrade pip\n"
     ]
    }
   ],
   "source": [
    "%pip install pymodelextractor"
   ]
  },
  {
   "cell_type": "markdown",
   "metadata": {},
   "source": [
    "### Moore machine L*"
   ]
  },
  {
   "cell_type": "markdown",
   "metadata": {},
   "source": [
    "#### Dependencies"
   ]
  },
  {
   "cell_type": "code",
   "execution_count": null,
   "metadata": {},
   "outputs": [],
   "source": [
    "from pymodelextractor.learners.observation_table_learners.lstar_learner import LStarLearner\n",
    "from pymodelextractor.teachers.automaton_teacher import Teacher\n"
   ]
  },
  {
   "cell_type": "markdown",
   "metadata": {},
   "source": [
    "#### Implementation"
   ]
  },
  {
   "cell_type": "code",
   "execution_count": null,
   "metadata": {},
   "outputs": [],
   "source": []
  }
 ],
 "metadata": {
  "kernelspec": {
   "display_name": "Python 3.9.6 64-bit",
   "language": "python",
   "name": "python3"
  },
  "language_info": {
   "codemirror_mode": {
    "name": "ipython",
    "version": 3
   },
   "file_extension": ".py",
   "mimetype": "text/x-python",
   "name": "python",
   "nbconvert_exporter": "python",
   "pygments_lexer": "ipython3",
   "version": "3.9.6"
  },
  "orig_nbformat": 4,
  "vscode": {
   "interpreter": {
    "hash": "764c09b74ea212453db1eba30f710fda0653b026c772876822cc63bec16b1c44"
   }
  }
 },
 "nbformat": 4,
 "nbformat_minor": 2
}
