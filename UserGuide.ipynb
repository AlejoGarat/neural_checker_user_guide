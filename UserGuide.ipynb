{
 "cells": [
  {
   "cell_type": "code",
   "execution_count": 12,
   "metadata": {},
   "outputs": [
    {
     "name": "stdout",
     "output_type": "stream",
     "text": [
      "Defaulting to user installation because normal site-packages is not writeable\n",
      "Requirement already satisfied: pythautomata==0.21.1 in /home/martin/.local/lib/python3.9/site-packages (0.21.1)\n",
      "Requirement already satisfied: graphviz in /home/martin/.local/lib/python3.9/site-packages (from pythautomata==0.21.1) (0.20.1)\n",
      "Requirement already satisfied: numpy in /home/martin/.local/lib/python3.9/site-packages (from pythautomata==0.21.1) (1.23.3)\n",
      "Requirement already satisfied: sklearn<0.1,>=0.0 in /home/martin/.local/lib/python3.9/site-packages (from pythautomata==0.21.1) (0.0)\n",
      "Requirement already satisfied: scipy<2.0.0,>=1.7.3 in /home/martin/.local/lib/python3.9/site-packages (from pythautomata==0.21.1) (1.9.1)\n",
      "Requirement already satisfied: scikit-learn in /home/martin/.local/lib/python3.9/site-packages (from sklearn<0.1,>=0.0->pythautomata==0.21.1) (1.1.2)\n",
      "Requirement already satisfied: threadpoolctl>=2.0.0 in /home/martin/.local/lib/python3.9/site-packages (from scikit-learn->sklearn<0.1,>=0.0->pythautomata==0.21.1) (3.1.0)\n",
      "Requirement already satisfied: joblib>=1.0.0 in /home/martin/.local/lib/python3.9/site-packages (from scikit-learn->sklearn<0.1,>=0.0->pythautomata==0.21.1) (1.2.0)\n",
      "\n",
      "\u001b[1m[\u001b[0m\u001b[34;49mnotice\u001b[0m\u001b[1;39;49m]\u001b[0m\u001b[39;49m A new release of pip available: \u001b[0m\u001b[31;49m22.2.2\u001b[0m\u001b[39;49m -> \u001b[0m\u001b[32;49m22.3.1\u001b[0m\n",
      "\u001b[1m[\u001b[0m\u001b[34;49mnotice\u001b[0m\u001b[1;39;49m]\u001b[0m\u001b[39;49m To update, run: \u001b[0m\u001b[32;49mpip install --upgrade pip\u001b[0m\n",
      "Note: you may need to restart the kernel to use updated packages.\n"
     ]
    }
   ],
   "source": [
    "%pip install pythautomata==0.21.1"
   ]
  },
  {
   "cell_type": "markdown",
   "metadata": {},
   "source": [
    "### Creating a moore machine"
   ]
  },
  {
   "cell_type": "markdown",
   "metadata": {},
   "source": [
    "#### Dependencies"
   ]
  },
  {
   "cell_type": "code",
   "execution_count": 13,
   "metadata": {},
   "outputs": [],
   "source": [
    "from pythautomata.base_types.alphabet import Alphabet\n",
    "from pythautomata.base_types.moore_state import MooreState\n",
    "from pythautomata.base_types.symbol import SymbolStr\n",
    "from pythautomata.automata.moore_machine_automaton import MooreMachineAutomaton\n",
    "from pythautomata.model_comparators.moore_machine_comparison_strategy import MooreMachineComparisonStrategy\n",
    "from pythautomata.model_exporters.dot_exporting_mm_strategy import DotExportingMMStrategy"
   ]
  },
  {
   "cell_type": "markdown",
   "metadata": {},
   "source": [
    "#### Implementation"
   ]
  },
  {
   "cell_type": "code",
   "execution_count": 14,
   "metadata": {},
   "outputs": [
    {
     "name": "stdout",
     "output_type": "stream",
     "text": [
      "Unexpected exception when exporting moore machine with 3 states: <class 'AttributeError'>\n"
     ]
    }
   ],
   "source": [
    "# Input alphabet with symbols a, b and c\n",
    "input_alphabet = Alphabet(frozenset((SymbolStr('a'), SymbolStr('b'), SymbolStr('c'))))\n",
    "# Output alphabet with symbols 0 and 1\n",
    "output_alphabet = Alphabet(frozenset((SymbolStr('0'), SymbolStr('1'))))\n",
    "\n",
    "a = input_alphabet['a']\n",
    "b = input_alphabet['b']\n",
    "c = input_alphabet['c']\n",
    "\n",
    "# Define states\n",
    "stateA = MooreState(\"State A\", output_alphabet['0'])\n",
    "stateB = MooreState(\"State B\", output_alphabet['1'])\n",
    "stateC = MooreState(\"State C\", output_alphabet['1'])\n",
    "\n",
    "# Add transitions\n",
    "stateA.add_transition(a, stateA)\n",
    "stateA.add_transition(b, stateB)\n",
    "stateB.add_transition(a, stateC)\n",
    "stateB.add_transition(c, stateB)\n",
    "\n",
    "# Hole state\n",
    "hole_state = MooreState(name=\"hole\", value=SymbolStr('0'))\n",
    "\n",
    "moore_machine = MooreMachineAutomaton(input_alphabet, output_alphabet, stateA, set([stateA, stateB, stateC]), MooreMachineComparisonStrategy, \"moore machine with 3 states\", [DotExportingMMStrategy])\n",
    "\n",
    "# Moore machine is generated in the directory ./output_models/moore_machines/\n",
    "moore_machine.export('./output_models/moore_machines/')"
   ]
  },
  {
   "cell_type": "markdown",
   "metadata": {},
   "source": [
    "### Moore machine generator"
   ]
  },
  {
   "cell_type": "markdown",
   "metadata": {},
   "source": [
    "#### Dependencies"
   ]
  },
  {
   "cell_type": "code",
   "execution_count": 15,
   "metadata": {},
   "outputs": [],
   "source": [
    "from pythautomata.utilities.nicaud_mm_generator import generate_moore_machine"
   ]
  },
  {
   "cell_type": "markdown",
   "metadata": {},
   "source": [
    "#### Implementation"
   ]
  },
  {
   "cell_type": "code",
   "execution_count": 16,
   "metadata": {},
   "outputs": [],
   "source": [
    "# Amount of states\n",
    "size = 20\n",
    "\n",
    "generated_moore_machine = generate_moore_machine(input_alphabet, output_alphabet, size)\n",
    "\n",
    "# Moore machine is generated in the directory ./output_models/moore_machines/\n",
    "generated_moore_machine.export('./output_models/moore_machines/')"
   ]
  },
  {
   "cell_type": "markdown",
   "metadata": {},
   "source": [
    "### DFA - moore machine comparator and converter"
   ]
  },
  {
   "cell_type": "markdown",
   "metadata": {},
   "source": [
    "#### Dependencies"
   ]
  },
  {
   "cell_type": "code",
   "execution_count": 17,
   "metadata": {},
   "outputs": [],
   "source": [
    "from pythautomata.utilities.automata_converter import AutomataConverter\n",
    "from pythautomata.automata_definitions.tomitas_grammars import TomitasGrammars\n",
    "from pythautomata.automata_definitions.sample_moore_machines import SampleMooreMachines"
   ]
  },
  {
   "cell_type": "markdown",
   "metadata": {},
   "source": [
    "#### Implementation"
   ]
  },
  {
   "cell_type": "code",
   "execution_count": 18,
   "metadata": {},
   "outputs": [
    {
     "data": {
      "text/plain": [
       "True"
      ]
     },
     "execution_count": 18,
     "metadata": {},
     "output_type": "execute_result"
    }
   ],
   "source": [
    "# Tomitas DFA example\n",
    "tomitas = TomitasGrammars.get_automaton_1()\n",
    "\n",
    "# Convert DFA to moore machine\n",
    "converted_moore_machine = AutomataConverter.convert_dfa_to_moore_machine(tomitas)\n",
    "\n",
    "# Tomitas moore machine\n",
    "tomitas_moore_machine = SampleMooreMachines.get_tomitas_automaton_1()\n",
    "\n",
    "# Comparate automatons\n",
    "converted_moore_machine.__eq__(tomitas_moore_machine)"
   ]
  },
  {
   "cell_type": "code",
   "execution_count": 19,
   "metadata": {},
   "outputs": [
    {
     "name": "stdout",
     "output_type": "stream",
     "text": [
      "Defaulting to user installation because normal site-packages is not writeable\n",
      "Requirement already satisfied: pymodelextractor==0.16.0 in /home/martin/.local/lib/python3.9/site-packages (0.16.0)\n",
      "Requirement already satisfied: pythautomata==0.21.1 in /home/martin/.local/lib/python3.9/site-packages (from pymodelextractor==0.16.0) (0.21.1)\n",
      "Requirement already satisfied: scipy<2.0.0,>=1.7.3 in /home/martin/.local/lib/python3.9/site-packages (from pythautomata==0.21.1->pymodelextractor==0.16.0) (1.9.1)\n",
      "Requirement already satisfied: sklearn<0.1,>=0.0 in /home/martin/.local/lib/python3.9/site-packages (from pythautomata==0.21.1->pymodelextractor==0.16.0) (0.0)\n",
      "Requirement already satisfied: numpy in /home/martin/.local/lib/python3.9/site-packages (from pythautomata==0.21.1->pymodelextractor==0.16.0) (1.23.3)\n",
      "Requirement already satisfied: graphviz in /home/martin/.local/lib/python3.9/site-packages (from pythautomata==0.21.1->pymodelextractor==0.16.0) (0.20.1)\n",
      "Requirement already satisfied: scikit-learn in /home/martin/.local/lib/python3.9/site-packages (from sklearn<0.1,>=0.0->pythautomata==0.21.1->pymodelextractor==0.16.0) (1.1.2)\n",
      "Requirement already satisfied: threadpoolctl>=2.0.0 in /home/martin/.local/lib/python3.9/site-packages (from scikit-learn->sklearn<0.1,>=0.0->pythautomata==0.21.1->pymodelextractor==0.16.0) (3.1.0)\n",
      "Requirement already satisfied: joblib>=1.0.0 in /home/martin/.local/lib/python3.9/site-packages (from scikit-learn->sklearn<0.1,>=0.0->pythautomata==0.21.1->pymodelextractor==0.16.0) (1.2.0)\n",
      "\n",
      "\u001b[1m[\u001b[0m\u001b[34;49mnotice\u001b[0m\u001b[1;39;49m]\u001b[0m\u001b[39;49m A new release of pip available: \u001b[0m\u001b[31;49m22.2.2\u001b[0m\u001b[39;49m -> \u001b[0m\u001b[32;49m22.3.1\u001b[0m\n",
      "\u001b[1m[\u001b[0m\u001b[34;49mnotice\u001b[0m\u001b[1;39;49m]\u001b[0m\u001b[39;49m To update, run: \u001b[0m\u001b[32;49mpip install --upgrade pip\u001b[0m\n",
      "Note: you may need to restart the kernel to use updated packages.\n"
     ]
    }
   ],
   "source": [
    "%pip install pymodelextractor==0.16.0"
   ]
  },
  {
   "cell_type": "markdown",
   "metadata": {},
   "source": [
    "### Moore machine L*"
   ]
  },
  {
   "cell_type": "markdown",
   "metadata": {},
   "source": [
    "#### Dependencies"
   ]
  },
  {
   "cell_type": "code",
   "execution_count": 20,
   "metadata": {},
   "outputs": [],
   "source": [
    "from pythautomata.automata.moore_machine_automaton import MooreMachineAutomaton\n",
    "from pythautomata.model_comparators.moore_machine_comparison_strategy import MooreMachineComparisonStrategy\n",
    "from pymodelextractor.learners.observation_table_learners.mm_lstar_learner import MMLStarLearner as MooreMachineLearner\n",
    "from pymodelextractor.teachers.moore_machines_teacher import MooreMachineTeacher as MMTeacher\n",
    "from pythautomata.utilities.nicaud_mm_generator import generate_moore_machine\n",
    "from pythautomata.base_types.alphabet import Alphabet\n"
   ]
  },
  {
   "cell_type": "markdown",
   "metadata": {},
   "source": [
    "#### Implementation"
   ]
  },
  {
   "cell_type": "code",
   "execution_count": 21,
   "metadata": {},
   "outputs": [
    {
     "name": "stdout",
     "output_type": "stream",
     "text": [
      "**** Started moore machines lstar ****\n",
      " # Starting iteration 1\n",
      "    . Closed table in 7.295608520507812e-05s\n",
      "    + Made table consistent in 9.5367431640625e-06s\n",
      "    - Found counterexample in 0.00037860870361328125s -> ab\n",
      "  # Iteration 1 ended, duration: 0.0009999275207519531s\n",
      " # Starting iteration 2\n",
      "    . Closed table in 2.574920654296875e-05s\n",
      "    . Closed table in 0.00035858154296875s\n",
      "    . Closed table in 0.0013339519500732422s\n",
      "    . Closed table in 0.004269838333129883s\n",
      "    . Closed table in 0.009993314743041992s\n",
      "    . Closed table in 0.0514984130859375s\n",
      "    . Closed table in 0.1634817123413086s\n",
      "    . Closed table in 0.37603211402893066s\n",
      "    . Closed table in 0.6901354789733887s\n",
      "    . Closed table in 1.1122808456420898s\n",
      "    . Closed table in 1.951411247253418s\n",
      "    . Closed table in 2.858426570892334s\n",
      "    . Closed table in 3.4013779163360596s\n",
      "    . Closed table in 5.110698938369751s\n",
      "    . Closed table in 7.030192136764526s\n",
      "    . Closed table in 8.424334526062012s\n",
      "    . Closed table in 10.192759275436401s\n",
      "    . Closed table in 9.570085763931274s\n",
      "    . Closed table in 10.514826536178589s\n",
      "    . Closed table in 11.493547439575195s\n",
      "    . Closed table in 13.546863794326782s\n",
      "    + Made table consistent in 92.36696910858154s\n",
      "    - Made equivalence query in 0.03575611114501953s\n",
      "  # Iteration 2 ended, duration: 96.2609965801239s\n",
      "**** Learning finished in 96.26255226135254s using 1 counterexamples & final model ended with 491 states ****\n",
      "\n",
      "Are equal:  True\n",
      "Unexpected exception when exporting Moore Machine - 2a25f4ceef5a47d6b1270d14ae9960aa: <class 'KeyboardInterrupt'>\n"
     ]
    }
   ],
   "source": [
    "\n",
    "# Obtain the Moore Machine Learner that implements the L* algorithm\n",
    "def get_mm_learner():\n",
    "    return MooreMachineLearner()\n",
    "\n",
    "# Obtain the teacher for the Moore Machine Learner\n",
    "def get_mm_teacher(automaton: MooreMachineAutomaton) -> MMTeacher:\n",
    "    return MMTeacher(automaton, MooreMachineComparisonStrategy())\n",
    "\n",
    "def test_500_states_moore_machine():\n",
    "    # Generate a random Moore Machine with 500 states\n",
    "    input_alphabet = Alphabet.from_strings([\"a\", \"b\", \"c\"])\n",
    "    output_alphabet = Alphabet.from_strings(['0', '1'])\n",
    "    seed = 100\n",
    "    automata = generate_moore_machine(input_alphabet, output_alphabet, 500, seed)\n",
    "\n",
    "    # Learn the generated Moore Machine\n",
    "    teacher = get_mm_teacher(automata)\n",
    "    result = get_mm_learner().learn(teacher, verbose=True) # verbose=True prints the learning process\n",
    "    \n",
    "    # Show that the learned Moore Machine is equivalent to the generated Moore Machine\n",
    "    print(\"Are equal: \", MooreMachineComparisonStrategy().are_equivalent(\n",
    "        result.model, automata))\n",
    "\n",
    "    # Export the learned Moore Machine\n",
    "    result.model.export('./output_models/mm_lstar/')\n",
    "\n",
    "\n",
    "test_500_states_moore_machine()"
   ]
  }
 ],
 "metadata": {
  "kernelspec": {
   "display_name": "Python 3",
   "language": "python",
   "name": "python3"
  },
  "language_info": {
   "codemirror_mode": {
    "name": "ipython",
    "version": 3
   },
   "file_extension": ".py",
   "mimetype": "text/x-python",
   "name": "python",
   "nbconvert_exporter": "python",
   "pygments_lexer": "ipython3",
   "version": "3.9.5"
  },
  "orig_nbformat": 4,
  "vscode": {
   "interpreter": {
    "hash": "f9f85f796d01129d0dd105a088854619f454435301f6ffec2fea96ecbd9be4ac"
   }
  }
 },
 "nbformat": 4,
 "nbformat_minor": 2
}
