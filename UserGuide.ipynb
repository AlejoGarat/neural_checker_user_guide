{
 "cells": [
  {
   "cell_type": "code",
   "execution_count": 1,
   "metadata": {},
   "outputs": [
    {
     "name": "stdout",
     "output_type": "stream",
     "text": [
      "Defaulting to user installation because normal site-packages is not writeable\n",
      "Collecting pythautomata\n",
      "  Downloading pythautomata-0.21.2-py3-none-any.whl (88 kB)\n",
      "\u001b[2K     \u001b[90m━━━━━━━━━━━━━━━━━━━━━━━━━━━━━━━━━━━━━━━━\u001b[0m \u001b[32m88.7/88.7 kB\u001b[0m \u001b[31m1.1 MB/s\u001b[0m eta \u001b[36m0:00:00\u001b[0ma \u001b[36m0:00:01\u001b[0m\n",
      "\u001b[?25hRequirement already satisfied: graphviz in /home/martin/.local/lib/python3.9/site-packages (from pythautomata) (0.20.1)\n",
      "Requirement already satisfied: scipy<2.0.0,>=1.7.3 in /home/martin/.local/lib/python3.9/site-packages (from pythautomata) (1.9.1)\n",
      "Requirement already satisfied: numpy in /home/martin/.local/lib/python3.9/site-packages (from pythautomata) (1.23.3)\n",
      "Requirement already satisfied: sklearn<0.1,>=0.0 in /home/martin/.local/lib/python3.9/site-packages (from pythautomata) (0.0)\n",
      "Requirement already satisfied: scikit-learn in /home/martin/.local/lib/python3.9/site-packages (from sklearn<0.1,>=0.0->pythautomata) (1.1.2)\n",
      "Requirement already satisfied: threadpoolctl>=2.0.0 in /home/martin/.local/lib/python3.9/site-packages (from scikit-learn->sklearn<0.1,>=0.0->pythautomata) (3.1.0)\n",
      "Requirement already satisfied: joblib>=1.0.0 in /home/martin/.local/lib/python3.9/site-packages (from scikit-learn->sklearn<0.1,>=0.0->pythautomata) (1.2.0)\n",
      "Installing collected packages: pythautomata\n",
      "Successfully installed pythautomata-0.21.2\n",
      "\n",
      "\u001b[1m[\u001b[0m\u001b[34;49mnotice\u001b[0m\u001b[1;39;49m]\u001b[0m\u001b[39;49m A new release of pip available: \u001b[0m\u001b[31;49m22.2.2\u001b[0m\u001b[39;49m -> \u001b[0m\u001b[32;49m22.3.1\u001b[0m\n",
      "\u001b[1m[\u001b[0m\u001b[34;49mnotice\u001b[0m\u001b[1;39;49m]\u001b[0m\u001b[39;49m To update, run: \u001b[0m\u001b[32;49mpip install --upgrade pip\u001b[0m\n",
      "Note: you may need to restart the kernel to use updated packages.\n"
     ]
    }
   ],
   "source": [
    "%pip install pythautomata"
   ]
  },
  {
   "cell_type": "markdown",
   "metadata": {},
   "source": [
    "### Creating a moore machine"
   ]
  },
  {
   "cell_type": "markdown",
   "metadata": {},
   "source": [
    "#### Dependencies"
   ]
  },
  {
   "cell_type": "code",
   "execution_count": 2,
   "metadata": {},
   "outputs": [],
   "source": [
    "from pythautomata.base_types.alphabet import Alphabet\n",
    "from pythautomata.base_types.moore_state import MooreState\n",
    "from pythautomata.base_types.symbol import SymbolStr\n",
    "from pythautomata.automata.moore_machine_automaton import MooreMachineAutomaton\n",
    "from pythautomata.model_comparators.moore_machine_comparison_strategy import MooreMachineComparisonStrategy as ComparisonStrategy\n",
    "from pythautomata.model_exporters.dot_exporting_mm_strategy import DotExportingMMStrategy"
   ]
  },
  {
   "cell_type": "markdown",
   "metadata": {},
   "source": [
    "#### Implementation"
   ]
  },
  {
   "cell_type": "code",
   "execution_count": 3,
   "metadata": {},
   "outputs": [
    {
     "name": "stdout",
     "output_type": "stream",
     "text": [
      "Unexpected exception when exporting moore machine with 3 states: <class 'AttributeError'>\n"
     ]
    }
   ],
   "source": [
    "# Input alphabet with symbols a, b and c\n",
    "input_alphabet = Alphabet(frozenset((SymbolStr('a'), SymbolStr('b'), SymbolStr('c'))))\n",
    "# Output alphabet with symbols 0 and 1\n",
    "output_alphabet = Alphabet(frozenset((SymbolStr('0'), SymbolStr('1'))))\n",
    "\n",
    "a = input_alphabet['a']\n",
    "b = input_alphabet['b']\n",
    "c = input_alphabet['c']\n",
    "\n",
    "# Define states\n",
    "stateA = MooreState(\"State A\", output_alphabet['0'])\n",
    "stateB = MooreState(\"State B\", output_alphabet['1'])\n",
    "stateC = MooreState(\"State C\", output_alphabet['1'])\n",
    "\n",
    "# Add transitions\n",
    "stateA.add_transition(a, stateA)\n",
    "stateA.add_transition(b, stateB)\n",
    "stateB.add_transition(a, stateC)\n",
    "stateB.add_transition(c, stateB)\n",
    "\n",
    "# Hole state\n",
    "hole_state = MooreState(name=\"hole\", value=SymbolStr('0'))\n",
    "\n",
    "moore_machine = MooreMachineAutomaton(input_alphabet, output_alphabet, stateA, set([stateA, stateB, stateC]), ComparisonStrategy, \"moore machine with 3 states\", [DotExportingMMStrategy])\n",
    "\n",
    "# Moore machine is generated in the directory ./output_models/moore_machines/\n",
    "moore_machine.export('./output_models/moore_machines/')"
   ]
  },
  {
   "cell_type": "markdown",
   "metadata": {},
   "source": [
    "### Moore machine generator"
   ]
  },
  {
   "cell_type": "markdown",
   "metadata": {},
   "source": [
    "#### Dependencies"
   ]
  },
  {
   "cell_type": "code",
   "execution_count": 4,
   "metadata": {},
   "outputs": [],
   "source": [
    "from pythautomata.utilities.nicaud_mm_generator import generate_moore_machine"
   ]
  },
  {
   "cell_type": "markdown",
   "metadata": {},
   "source": [
    "#### Implementation"
   ]
  },
  {
   "cell_type": "code",
   "execution_count": 5,
   "metadata": {},
   "outputs": [],
   "source": [
    "# Amount of states\n",
    "size = 20\n",
    "\n",
    "generated_moore_machine = generate_moore_machine(input_alphabet, output_alphabet, size)\n",
    "\n",
    "# Moore machine is generated in the directory ./output_models/moore_machines/\n",
    "generated_moore_machine.export('./output_models/moore_machines/')"
   ]
  },
  {
   "cell_type": "markdown",
   "metadata": {},
   "source": [
    "### DFA - moore machine comparator and converter"
   ]
  },
  {
   "cell_type": "markdown",
   "metadata": {},
   "source": [
    "#### Dependencies"
   ]
  },
  {
   "cell_type": "code",
   "execution_count": 6,
   "metadata": {},
   "outputs": [],
   "source": [
    "from pythautomata.utilities.automata_converter import AutomataConverter\n",
    "from pythautomata.automata_definitions.tomitas_grammars import TomitasGrammars\n",
    "from pythautomata.automata_definitions.sample_moore_machines import SampleMooreMachines"
   ]
  },
  {
   "cell_type": "markdown",
   "metadata": {},
   "source": [
    "#### Implementation"
   ]
  },
  {
   "cell_type": "code",
   "execution_count": 7,
   "metadata": {},
   "outputs": [
    {
     "data": {
      "text/plain": [
       "True"
      ]
     },
     "execution_count": 7,
     "metadata": {},
     "output_type": "execute_result"
    }
   ],
   "source": [
    "# Tomitas DFA example\n",
    "tomitas = TomitasGrammars.get_automaton_1()\n",
    "\n",
    "# Convert DFA to moore machine\n",
    "converted_moore_machine = AutomataConverter.convert_dfa_to_moore_machine(tomitas)\n",
    "\n",
    "# Tomitas moore machine\n",
    "tomitas_moore_machine = SampleMooreMachines.get_tomitas_automaton_1()\n",
    "\n",
    "# Comparate automatons\n",
    "converted_moore_machine.__eq__(tomitas_moore_machine)"
   ]
  },
  {
   "cell_type": "code",
   "execution_count": 8,
   "metadata": {},
   "outputs": [
    {
     "name": "stdout",
     "output_type": "stream",
     "text": [
      "Defaulting to user installation because normal site-packages is not writeable\n",
      "Collecting pymodelextractor\n",
      "  Downloading pymodelextractor-0.16.0-py3-none-any.whl (75 kB)\n",
      "\u001b[2K     \u001b[90m━━━━━━━━━━━━━━━━━━━━━━━━━━━━━━━━━━━━━━━━\u001b[0m \u001b[32m75.0/75.0 kB\u001b[0m \u001b[31m1.4 MB/s\u001b[0m eta \u001b[36m0:00:00\u001b[0ma \u001b[36m0:00:01\u001b[0m\n",
      "\u001b[?25hCollecting pythautomata==0.21.1\n",
      "  Downloading pythautomata-0.21.1-py3-none-any.whl (88 kB)\n",
      "\u001b[2K     \u001b[90m━━━━━━━━━━━━━━━━━━━━━━━━━━━━━━━━━━━━━━━━\u001b[0m \u001b[32m88.7/88.7 kB\u001b[0m \u001b[31m1.7 MB/s\u001b[0m eta \u001b[36m0:00:00\u001b[0mta \u001b[36m0:00:01\u001b[0m\n",
      "\u001b[?25hRequirement already satisfied: numpy in /home/martin/.local/lib/python3.9/site-packages (from pythautomata==0.21.1->pymodelextractor) (1.23.3)\n",
      "Requirement already satisfied: graphviz in /home/martin/.local/lib/python3.9/site-packages (from pythautomata==0.21.1->pymodelextractor) (0.20.1)\n",
      "Requirement already satisfied: sklearn<0.1,>=0.0 in /home/martin/.local/lib/python3.9/site-packages (from pythautomata==0.21.1->pymodelextractor) (0.0)\n",
      "Requirement already satisfied: scipy<2.0.0,>=1.7.3 in /home/martin/.local/lib/python3.9/site-packages (from pythautomata==0.21.1->pymodelextractor) (1.9.1)\n",
      "Requirement already satisfied: scikit-learn in /home/martin/.local/lib/python3.9/site-packages (from sklearn<0.1,>=0.0->pythautomata==0.21.1->pymodelextractor) (1.1.2)\n",
      "Requirement already satisfied: joblib>=1.0.0 in /home/martin/.local/lib/python3.9/site-packages (from scikit-learn->sklearn<0.1,>=0.0->pythautomata==0.21.1->pymodelextractor) (1.2.0)\n",
      "Requirement already satisfied: threadpoolctl>=2.0.0 in /home/martin/.local/lib/python3.9/site-packages (from scikit-learn->sklearn<0.1,>=0.0->pythautomata==0.21.1->pymodelextractor) (3.1.0)\n",
      "Installing collected packages: pythautomata, pymodelextractor\n",
      "  Attempting uninstall: pythautomata\n",
      "    Found existing installation: pythautomata 0.21.2\n",
      "    Uninstalling pythautomata-0.21.2:\n",
      "      Successfully uninstalled pythautomata-0.21.2\n",
      "Successfully installed pymodelextractor-0.16.0 pythautomata-0.21.1\n",
      "\n",
      "\u001b[1m[\u001b[0m\u001b[34;49mnotice\u001b[0m\u001b[1;39;49m]\u001b[0m\u001b[39;49m A new release of pip available: \u001b[0m\u001b[31;49m22.2.2\u001b[0m\u001b[39;49m -> \u001b[0m\u001b[32;49m22.3.1\u001b[0m\n",
      "\u001b[1m[\u001b[0m\u001b[34;49mnotice\u001b[0m\u001b[1;39;49m]\u001b[0m\u001b[39;49m To update, run: \u001b[0m\u001b[32;49mpip install --upgrade pip\u001b[0m\n",
      "Note: you may need to restart the kernel to use updated packages.\n"
     ]
    }
   ],
   "source": [
    "%pip install pymodelextractor"
   ]
  },
  {
   "cell_type": "markdown",
   "metadata": {},
   "source": [
    "### Moore machine L*"
   ]
  },
  {
   "cell_type": "markdown",
   "metadata": {},
   "source": [
    "#### Dependencies"
   ]
  },
  {
   "cell_type": "code",
   "execution_count": 9,
   "metadata": {},
   "outputs": [],
   "source": [
    "from pythautomata.automata.moore_machine_automaton import MooreMachineAutomaton\n",
    "from pythautomata.model_comparators.moore_machine_comparison_strategy import MooreMachineComparisonStrategy\n",
    "from pymodelextractor.learners.observation_table_learners.mm_lstar_learner import MMLStarLearner as MooreMachineLearner\n",
    "from pymodelextractor.teachers.moore_machines_teacher import MooreMachineTeacher as MMTeacher\n",
    "from pythautomata.utilities.nicaud_mm_generator import generate_moore_machine\n",
    "from pythautomata.base_types.alphabet import Alphabet\n"
   ]
  },
  {
   "cell_type": "markdown",
   "metadata": {},
   "source": [
    "#### Implementation"
   ]
  },
  {
   "cell_type": "code",
   "execution_count": 11,
   "metadata": {},
   "outputs": [
    {
     "name": "stdout",
     "output_type": "stream",
     "text": [
      "**** Started moore machines lstar ****\n",
      " # Starting iteration 1\n",
      "    . Closed table in 0.00022029876708984375s\n",
      "    + Made table consistent in 1.5735626220703125e-05s\n",
      "    - Found counterexample in 0.0003833770751953125s -> ab\n",
      "  # Iteration 1 ended, duration: 0.001489877700805664s\n",
      " # Starting iteration 2\n",
      "    . Closed table in 3.5762786865234375e-05s\n",
      "    . Closed table in 0.0004119873046875s\n",
      "    . Closed table in 0.0013873577117919922s\n",
      "    . Closed table in 0.0048885345458984375s\n",
      "    . Closed table in 0.011749029159545898s\n",
      "    . Closed table in 0.12101387977600098s\n",
      "    . Closed table in 0.2936675548553467s\n",
      "    . Closed table in 0.8626790046691895s\n",
      "    . Closed table in 1.6988496780395508s\n",
      "    . Closed table in 1.2561454772949219s\n",
      "    . Closed table in 1.8004918098449707s\n",
      "    . Closed table in 3.203772783279419s\n",
      "    . Closed table in 4.451939344406128s\n",
      "    . Closed table in 4.867054462432861s\n",
      "    . Closed table in 6.982788801193237s\n",
      "    . Closed table in 11.599337100982666s\n",
      "    . Closed table in 8.300142049789429s\n",
      "    . Closed table in 9.95770525932312s\n",
      "    . Closed table in 13.525397777557373s\n",
      "    . Closed table in 15.67486047744751s\n",
      "    . Closed table in 16.36167001724243s\n",
      "    + Made table consistent in 107.20912146568298s\n",
      "    - Made equivalence query in 0.034502506256103516s\n",
      "  # Iteration 2 ended, duration: 110.72742938995361s\n",
      "**** Learning finished in 110.73183941841125s using 1 counterexamples & final model ended with 491 states ****\n",
      "\n",
      "Are equal:  True\n",
      "Unexpected exception when exporting Moore Machine - 8a602369e87e468f8b2eb38d0cb526cf: <class 'KeyboardInterrupt'>\n"
     ]
    }
   ],
   "source": [
    "\n",
    "# Obtain the Moore Machine Learner that implements the L* algorithm\n",
    "def get_mm_learner():\n",
    "    return MooreMachineLearner()\n",
    "\n",
    "# Obtain the teacher for the Moore Machine Learner\n",
    "def get_mm_teacher(automaton: MooreMachineAutomaton) -> MMTeacher:\n",
    "    return MMTeacher(automaton, MooreMachineComparisonStrategy())\n",
    "\n",
    "def test_500_states_moore_machine():\n",
    "    # Generate a random Moore Machine with 500 states\n",
    "    input_alphabet = Alphabet.from_strings([\"a\", \"b\", \"c\"])\n",
    "    output_alphabet = Alphabet.from_strings(['0', '1'])\n",
    "    seed = 100\n",
    "    automata = generate_moore_machine(input_alphabet, output_alphabet, 500, seed)\n",
    "\n",
    "    # Learn the generated Moore Machine\n",
    "    teacher = get_mm_teacher(automata)\n",
    "    result = get_mm_learner().learn(teacher, verbose=True) # verbose=True prints the learning process\n",
    "    \n",
    "    # Show that the learned Moore Machine is equivalent to the generated Moore Machine\n",
    "    print(\"Are equal: \", MooreMachineComparisonStrategy().are_equivalent(\n",
    "        result.model, automata))\n",
    "\n",
    "    # Export the learned Moore Machine\n",
    "    result.model.export('./output_models/mm_lstar/')\n",
    "\n",
    "\n",
    "test_500_states_moore_machine()"
   ]
  }
 ],
 "metadata": {
  "kernelspec": {
   "display_name": "Python 3",
   "language": "python",
   "name": "python3"
  },
  "language_info": {
   "codemirror_mode": {
    "name": "ipython",
    "version": 3
   },
   "file_extension": ".py",
   "mimetype": "text/x-python",
   "name": "python",
   "nbconvert_exporter": "python",
   "pygments_lexer": "ipython3",
   "version": "3.9.5"
  },
  "orig_nbformat": 4,
  "vscode": {
   "interpreter": {
    "hash": "f9f85f796d01129d0dd105a088854619f454435301f6ffec2fea96ecbd9be4ac"
   }
  }
 },
 "nbformat": 4,
 "nbformat_minor": 2
}
