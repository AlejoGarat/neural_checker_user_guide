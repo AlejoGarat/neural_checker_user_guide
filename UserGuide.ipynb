{
 "cells": [
  {
   "cell_type": "code",
   "execution_count": 58,
   "metadata": {},
   "outputs": [
    {
     "name": "stdout",
     "output_type": "stream",
     "text": [
      "Requirement already satisfied: pythautomata==0.21.1 in c:\\users\\juan1\\appdata\\local\\programs\\python\\python39\\lib\\site-packages (0.21.1)\n",
      "Requirement already satisfied: scipy<2.0.0,>=1.7.3 in c:\\users\\juan1\\appdata\\local\\programs\\python\\python39\\lib\\site-packages (from pythautomata==0.21.1) (1.9.3)\n",
      "Requirement already satisfied: sklearn<0.1,>=0.0 in c:\\users\\juan1\\appdata\\local\\programs\\python\\python39\\lib\\site-packages (from pythautomata==0.21.1) (0.0)\n",
      "Requirement already satisfied: graphviz in c:\\users\\juan1\\appdata\\local\\programs\\python\\python39\\lib\\site-packages (from pythautomata==0.21.1) (0.20.1)\n",
      "Requirement already satisfied: numpy in c:\\users\\juan1\\appdata\\roaming\\python\\python39\\site-packages (from pythautomata==0.21.1) (1.22.4)\n",
      "Requirement already satisfied: scikit-learn in c:\\users\\juan1\\appdata\\local\\programs\\python\\python39\\lib\\site-packages (from sklearn<0.1,>=0.0->pythautomata==0.21.1) (1.1.2)\n",
      "Requirement already satisfied: joblib>=1.0.0 in c:\\users\\juan1\\appdata\\local\\programs\\python\\python39\\lib\\site-packages (from scikit-learn->sklearn<0.1,>=0.0->pythautomata==0.21.1) (1.2.0)\n",
      "Requirement already satisfied: threadpoolctl>=2.0.0 in c:\\users\\juan1\\appdata\\local\\programs\\python\\python39\\lib\\site-packages (from scikit-learn->sklearn<0.1,>=0.0->pythautomata==0.21.1) (3.1.0)\n",
      "\n",
      "[notice] A new release of pip available: 22.1.2 -> 22.3.1\n",
      "[notice] To update, run: python.exe -m pip install --upgrade pip\n",
      "Note: you may need to restart the kernel to use updated packages.\n"
     ]
    }
   ],
   "source": [
    "%pip install pythautomata==0.21.1"
   ]
  },
  {
   "cell_type": "markdown",
   "metadata": {},
   "source": [
    "### Creating a moore machine"
   ]
  },
  {
   "cell_type": "markdown",
   "metadata": {},
   "source": [
    "#### Dependencies"
   ]
  },
  {
   "cell_type": "code",
   "execution_count": 59,
   "metadata": {},
   "outputs": [],
   "source": [
    "from pythautomata.base_types.alphabet import Alphabet\n",
    "from pythautomata.base_types.moore_state import MooreState\n",
    "from pythautomata.base_types.symbol import SymbolStr\n",
    "from pythautomata.automata.moore_machine_automaton import MooreMachineAutomaton\n",
    "from pythautomata.model_comparators.moore_machine_comparison_strategy import MooreMachineComparisonStrategy\n",
    "from pythautomata.model_exporters.dot_exporting_mm_strategy import DotExportingMMStrategy"
   ]
  },
  {
   "cell_type": "markdown",
   "metadata": {},
   "source": [
    "#### Implementation"
   ]
  },
  {
   "cell_type": "code",
   "execution_count": 60,
   "metadata": {},
   "outputs": [
    {
     "name": "stdout",
     "output_type": "stream",
     "text": [
      "Unexpected exception when exporting moore machine with 3 states: <class 'AttributeError'>\n"
     ]
    }
   ],
   "source": [
    "# Input alphabet with symbols a, b and c\n",
    "input_alphabet = Alphabet(frozenset((SymbolStr('a'), SymbolStr('b'), SymbolStr('c'))))\n",
    "# Output alphabet with symbols 0 and 1\n",
    "output_alphabet = Alphabet(frozenset((SymbolStr('0'), SymbolStr('1'))))\n",
    "\n",
    "a = input_alphabet['a']\n",
    "b = input_alphabet['b']\n",
    "c = input_alphabet['c']\n",
    "\n",
    "# Define states\n",
    "stateA = MooreState(\"State A\", output_alphabet['0'])\n",
    "stateB = MooreState(\"State B\", output_alphabet['1'])\n",
    "stateC = MooreState(\"State C\", output_alphabet['1'])\n",
    "\n",
    "# Add transitions\n",
    "stateA.add_transition(a, stateA)\n",
    "stateA.add_transition(b, stateB)\n",
    "stateB.add_transition(a, stateC)\n",
    "stateB.add_transition(c, stateB)\n",
    "\n",
    "# Hole state\n",
    "hole_state = MooreState(name=\"hole\", value=SymbolStr('0'))\n",
    "\n",
    "moore_machine = MooreMachineAutomaton(input_alphabet, output_alphabet, stateA, set([stateA, stateB, stateC]), MooreMachineComparisonStrategy, \"moore machine with 3 states\", [DotExportingMMStrategy])\n",
    "\n",
    "# Moore machine is generated in the directory ./output_models/moore_machines/\n",
    "moore_machine.export('./output_models/moore_machines/')"
   ]
  },
  {
   "cell_type": "markdown",
   "metadata": {},
   "source": [
    "### Moore machine generator"
   ]
  },
  {
   "cell_type": "markdown",
   "metadata": {},
   "source": [
    "#### Dependencies"
   ]
  },
  {
   "cell_type": "code",
   "execution_count": 61,
   "metadata": {},
   "outputs": [],
   "source": [
    "from pythautomata.utilities.nicaud_mm_generator import generate_moore_machine"
   ]
  },
  {
   "cell_type": "markdown",
   "metadata": {},
   "source": [
    "#### Implementation"
   ]
  },
  {
   "cell_type": "code",
   "execution_count": 62,
   "metadata": {},
   "outputs": [],
   "source": [
    "# Amount of states\n",
    "size = 20\n",
    "\n",
    "generated_moore_machine = generate_moore_machine(input_alphabet, output_alphabet, size)\n",
    "\n",
    "# Moore machine is generated in the directory ./output_models/moore_machines/\n",
    "generated_moore_machine.export('./output_models/moore_machines/')"
   ]
  },
  {
   "cell_type": "markdown",
   "metadata": {},
   "source": [
    "### DFA - moore machine comparator and converter"
   ]
  },
  {
   "cell_type": "markdown",
   "metadata": {},
   "source": [
    "#### Dependencies"
   ]
  },
  {
   "cell_type": "code",
   "execution_count": 63,
   "metadata": {},
   "outputs": [],
   "source": [
    "from pythautomata.utilities.automata_converter import AutomataConverter\n",
    "from pythautomata.automata_definitions.tomitas_grammars import TomitasGrammars\n",
    "from pythautomata.automata_definitions.sample_moore_machines import SampleMooreMachines"
   ]
  },
  {
   "cell_type": "markdown",
   "metadata": {},
   "source": [
    "#### Implementation"
   ]
  },
  {
   "cell_type": "code",
   "execution_count": 64,
   "metadata": {},
   "outputs": [
    {
     "data": {
      "text/plain": [
       "True"
      ]
     },
     "execution_count": 64,
     "metadata": {},
     "output_type": "execute_result"
    }
   ],
   "source": [
    "# Tomitas DFA example\n",
    "tomitas = TomitasGrammars.get_automaton_1()\n",
    "\n",
    "# Convert DFA to moore machine\n",
    "converted_moore_machine = AutomataConverter.convert_dfa_to_moore_machine(tomitas)\n",
    "\n",
    "# Tomitas moore machine\n",
    "tomitas_moore_machine = SampleMooreMachines.get_tomitas_automaton_1()\n",
    "\n",
    "# Comparate automatons\n",
    "converted_moore_machine.__eq__(tomitas_moore_machine)"
   ]
  },
  {
   "cell_type": "code",
   "execution_count": 65,
   "metadata": {},
   "outputs": [
    {
     "name": "stdout",
     "output_type": "stream",
     "text": [
      "Requirement already satisfied: pymodelextractor==0.16.0 in c:\\users\\juan1\\appdata\\local\\programs\\python\\python39\\lib\\site-packages (0.16.0)\n",
      "Requirement already satisfied: pythautomata==0.21.1 in c:\\users\\juan1\\appdata\\local\\programs\\python\\python39\\lib\\site-packages (from pymodelextractor==0.16.0) (0.21.1)\n",
      "Requirement already satisfied: numpy in c:\\users\\juan1\\appdata\\roaming\\python\\python39\\site-packages (from pythautomata==0.21.1->pymodelextractor==0.16.0) (1.22.4)\n",
      "Requirement already satisfied: sklearn<0.1,>=0.0 in c:\\users\\juan1\\appdata\\local\\programs\\python\\python39\\lib\\site-packages (from pythautomata==0.21.1->pymodelextractor==0.16.0) (0.0)\n",
      "Requirement already satisfied: graphviz in c:\\users\\juan1\\appdata\\local\\programs\\python\\python39\\lib\\site-packages (from pythautomata==0.21.1->pymodelextractor==0.16.0) (0.20.1)\n",
      "Requirement already satisfied: scipy<2.0.0,>=1.7.3 in c:\\users\\juan1\\appdata\\local\\programs\\python\\python39\\lib\\site-packages (from pythautomata==0.21.1->pymodelextractor==0.16.0) (1.9.3)\n",
      "Requirement already satisfied: scikit-learn in c:\\users\\juan1\\appdata\\local\\programs\\python\\python39\\lib\\site-packages (from sklearn<0.1,>=0.0->pythautomata==0.21.1->pymodelextractor==0.16.0) (1.1.2)\n",
      "Requirement already satisfied: joblib>=1.0.0 in c:\\users\\juan1\\appdata\\local\\programs\\python\\python39\\lib\\site-packages (from scikit-learn->sklearn<0.1,>=0.0->pythautomata==0.21.1->pymodelextractor==0.16.0) (1.2.0)\n",
      "Requirement already satisfied: threadpoolctl>=2.0.0 in c:\\users\\juan1\\appdata\\local\\programs\\python\\python39\\lib\\site-packages (from scikit-learn->sklearn<0.1,>=0.0->pythautomata==0.21.1->pymodelextractor==0.16.0) (3.1.0)\n",
      "\n",
      "[notice] A new release of pip available: 22.1.2 -> 22.3.1\n",
      "[notice] To update, run: python.exe -m pip install --upgrade pip\n",
      "Note: you may need to restart the kernel to use updated packages.\n"
     ]
    }
   ],
   "source": [
    "%pip install pymodelextractor==0.16.0"
   ]
  },
  {
   "cell_type": "markdown",
   "metadata": {},
   "source": [
    "### Moore machine L*"
   ]
  },
  {
   "cell_type": "markdown",
   "metadata": {},
   "source": [
    "#### Dependencies"
   ]
  },
  {
   "cell_type": "code",
   "execution_count": 66,
   "metadata": {},
   "outputs": [],
   "source": [
    "import time\n",
    "from pymodelextractor.learners.observation_table_learners.mm_lstar_learner import MMLStarLearner as MooreMachineLearner\n",
    "from pymodelextractor.learners.observation_table_learners.lstar_learner import LStarLearner as DFALearner\n",
    "from pymodelextractor.teachers.moore_machines_teacher import MooreMachineTeacher as MMTeacher\n",
    "from pymodelextractor.teachers.automaton_teacher import DeterministicFiniteAutomatonTeacher as DFATeacher\n",
    "from pythautomata.model_comparators.dfa_comparison_strategy import DFAComparisonStrategy\n",
    "from pythautomata.automata.deterministic_finite_automaton import DeterministicFiniteAutomaton\n",
    "from pythautomata.utilities.nicaud_dfa_generator import generate_dfa"
   ]
  },
  {
   "cell_type": "markdown",
   "metadata": {},
   "source": [
    "#### Implementation"
   ]
  },
  {
   "cell_type": "code",
   "execution_count": 67,
   "metadata": {},
   "outputs": [],
   "source": [
    "def get_mm_learner():\n",
    "    return MooreMachineLearner()\n",
    "\n",
    "def get_mm_teacher(automaton: MooreMachineAutomaton) -> MMTeacher:\n",
    "    return MMTeacher(automaton, MooreMachineComparisonStrategy())\n",
    "\n",
    "def get_dfa_learner():\n",
    "    return DFALearner()\n",
    "\n",
    "def get_dfa_teacher(automaton: DeterministicFiniteAutomaton) -> DFATeacher:\n",
    "    return DFATeacher(automaton, DFAComparisonStrategy())"
   ]
  },
  {
   "cell_type": "code",
   "execution_count": 68,
   "metadata": {},
   "outputs": [],
   "source": [
    "def test_500_states_moore_machine():\n",
    "    strings = [\"0\", \"1\"]\n",
    "    input_alphabet = Alphabet(frozenset(map(SymbolStr, strings)))\n",
    "    strings = [\"a\", \"b\", \"c\"]\n",
    "    output_alphabet = Alphabet(frozenset(map(SymbolStr, strings)))\n",
    "    seed = 100\n",
    "    automata = generate_moore_machine(input_alphabet, output_alphabet, 500, seed)\n",
    "    teacher = get_mm_teacher(automata)\n",
    "    start_time = time.time()\n",
    "    result = get_mm_learner().learn(teacher)\n",
    "    duration = time.time() - start_time\n",
    "    print(\"MM Learner Duration for 500 states: \", duration, \"s\")\n",
    "    assert MooreMachineComparisonStrategy().are_equivalent(\n",
    "        result.model, automata)"
   ]
  },
  {
   "cell_type": "code",
   "execution_count": 69,
   "metadata": {},
   "outputs": [],
   "source": [
    "def test_500_states_dfa():\n",
    "    strings = [\"0\", \"1\"]\n",
    "    input_alphabet = Alphabet(frozenset(map(SymbolStr, strings)))\n",
    "    seed = 100\n",
    "    automata = generate_dfa(input_alphabet, 500, seed)\n",
    "    teacher = get_dfa_teacher(automata)\n",
    "    start_time = time.time()\n",
    "    result = get_dfa_learner().learn(teacher)\n",
    "    duration = time.time() - start_time\n",
    "    print(\"DFA Learner Duration for 500 states: \", duration, \"s\")\n",
    "    assert DFAComparisonStrategy().are_equivalent(\n",
    "        result.model, automata)"
   ]
  },
  {
   "cell_type": "code",
   "execution_count": 70,
   "metadata": {},
   "outputs": [],
   "source": [
    "def test_1000_states_moore_machine():\n",
    "    strings = [\"0\", \"1\"]\n",
    "    input_alphabet = Alphabet(frozenset(map(SymbolStr, strings)))\n",
    "    strings = [\"a\", \"b\", \"c\"]\n",
    "    output_alphabet = Alphabet(frozenset(map(SymbolStr, strings)))\n",
    "    seed = 100\n",
    "    automata = generate_moore_machine(input_alphabet, output_alphabet, 1000, seed)\n",
    "    teacher = get_mm_teacher(automata)\n",
    "    start_time = time.time()\n",
    "    result = get_mm_learner().learn(teacher)\n",
    "    duration = time.time() - start_time\n",
    "    print(\"MM Learner Duration for 1000 states: \", duration, \"s\")\n",
    "    assert MooreMachineComparisonStrategy().are_equivalent(\n",
    "        result.model, automata)"
   ]
  },
  {
   "cell_type": "code",
   "execution_count": 71,
   "metadata": {},
   "outputs": [],
   "source": [
    "def test_1000_states_dfa():\n",
    "    strings = [\"0\", \"1\"]\n",
    "    input_alphabet = Alphabet(frozenset(map(SymbolStr, strings)))\n",
    "    seed = 100\n",
    "    automata = generate_dfa(input_alphabet, 1000, seed)\n",
    "    teacher = get_dfa_teacher(automata)\n",
    "    start_time = time.time()\n",
    "    result = get_dfa_learner().learn(teacher)\n",
    "    duration = time.time() - start_time\n",
    "    print(\"DFA Learner Duration for 1000 states: \", duration, \"s\")\n",
    "    assert DFAComparisonStrategy().are_equivalent(\n",
    "        result.model, automata)"
   ]
  },
  {
   "cell_type": "code",
   "execution_count": 72,
   "metadata": {},
   "outputs": [
    {
     "name": "stdout",
     "output_type": "stream",
     "text": [
      "MM Learner Duration for 500 states:  24.04143738746643 s\n",
      "DFA Learner Duration for 500 states:  119.05761003494263 s\n",
      "MM Learner Duration for 1000 states:  109.61600613594055 s\n"
     ]
    }
   ],
   "source": [
    "test_500_states_moore_machine()\n",
    "test_500_states_dfa()\n",
    "test_1000_states_moore_machine()\n",
    "test_1000_states_dfa()"
   ]
  },
  {
   "cell_type": "markdown",
   "metadata": {},
   "source": []
  }
 ],
 "metadata": {
  "kernelspec": {
   "display_name": "Python 3",
   "language": "python",
   "name": "python3"
  },
  "language_info": {
   "codemirror_mode": {
    "name": "ipython",
    "version": 3
   },
   "file_extension": ".py",
   "mimetype": "text/x-python",
   "name": "python",
   "nbconvert_exporter": "python",
   "pygments_lexer": "ipython3",
   "version": "3.9.13"
  },
  "orig_nbformat": 4,
  "vscode": {
   "interpreter": {
    "hash": "f0fe363e8ab1410fba4120e165ad8d88c45f7211f02c52f0870ffe77e2f67f72"
   }
  }
 },
 "nbformat": 4,
 "nbformat_minor": 2
}
