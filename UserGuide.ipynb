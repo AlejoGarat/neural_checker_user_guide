{
 "cells": [
  {
   "cell_type": "code",
   "execution_count": 6,
   "metadata": {},
   "outputs": [
    {
     "name": "stdout",
     "output_type": "stream",
     "text": [
      "Requirement already satisfied: pythautomata in c:\\users\\juan1\\appdata\\local\\programs\\python\\python39\\lib\\site-packages (0.21.1)\n",
      "Requirement already satisfied: numpy in c:\\users\\juan1\\appdata\\roaming\\python\\python39\\site-packages (from pythautomata) (1.22.4)\n",
      "Requirement already satisfied: scipy<2.0.0,>=1.7.3 in c:\\users\\juan1\\appdata\\local\\programs\\python\\python39\\lib\\site-packages (from pythautomata) (1.9.3)\n",
      "Requirement already satisfied: graphviz in c:\\users\\juan1\\appdata\\local\\programs\\python\\python39\\lib\\site-packages (from pythautomata) (0.20.1)\n",
      "Requirement already satisfied: sklearn<0.1,>=0.0 in c:\\users\\juan1\\appdata\\local\\programs\\python\\python39\\lib\\site-packages (from pythautomata) (0.0)\n",
      "Requirement already satisfied: scikit-learn in c:\\users\\juan1\\appdata\\local\\programs\\python\\python39\\lib\\site-packages (from sklearn<0.1,>=0.0->pythautomata) (1.1.2)\n",
      "Requirement already satisfied: joblib>=1.0.0 in c:\\users\\juan1\\appdata\\local\\programs\\python\\python39\\lib\\site-packages (from scikit-learn->sklearn<0.1,>=0.0->pythautomata) (1.2.0)\n",
      "Requirement already satisfied: threadpoolctl>=2.0.0 in c:\\users\\juan1\\appdata\\local\\programs\\python\\python39\\lib\\site-packages (from scikit-learn->sklearn<0.1,>=0.0->pythautomata) (3.1.0)\n",
      "\n",
      "[notice] A new release of pip available: 22.1.2 -> 22.3.1\n",
      "[notice] To update, run: python.exe -m pip install --upgrade pip\n",
      "Note: you may need to restart the kernel to use updated packages.\n"
     ]
    }
   ],
   "source": [
    "%pip install pythautomata"
   ]
  },
  {
   "cell_type": "markdown",
   "metadata": {},
   "source": [
    "### Creating a moore machine"
   ]
  },
  {
   "cell_type": "markdown",
   "metadata": {},
   "source": [
    "#### Dependencies"
   ]
  },
  {
   "cell_type": "code",
   "execution_count": 17,
   "metadata": {},
   "outputs": [],
   "source": [
    "from pythautomata.base_types.alphabet import Alphabet\n",
    "from pythautomata.base_types.moore_state import MooreState\n",
    "from pythautomata.base_types.symbol import SymbolStr\n",
    "from pythautomata.automata.moore_machine_automaton import MooreMachineAutomaton\n",
    "from pythautomata.model_comparators.moore_machine_comparison_strategy import MooreMachineComparisonStrategy as ComparisonStrategy\n",
    "from pythautomata.model_exporters.dot_exporting_mm_strategy import DotExportingMMStrategy"
   ]
  },
  {
   "cell_type": "markdown",
   "metadata": {},
   "source": [
    "#### Implementation"
   ]
  },
  {
   "cell_type": "code",
   "execution_count": 19,
   "metadata": {},
   "outputs": [],
   "source": [
    "# First we create an input alphabet with symbols a, b and c\n",
    "input_alphabet = Alphabet(frozenset((SymbolStr('a'), SymbolStr('b'), SymbolStr('c'))))\n",
    "# Then the output alphabet with symbols 0 and 1\n",
    "output_alphabet = Alphabet(frozenset((SymbolStr('0'), SymbolStr('1'))))\n",
    "\n",
    "a = input_alphabet['a']\n",
    "b = input_alphabet['b']\n",
    "c = input_alphabet['c']\n",
    "\n",
    "# Defining moore states\n",
    "stateA = MooreState(name=\"State A\", value=output_alphabet['0'])\n",
    "stateB = MooreState(\"State B\", output_alphabet['1'])\n",
    "stateC = MooreState(\"State C\", output_alphabet['1'])\n",
    "\n",
    "# Adding transitions for the previous states\n",
    "stateA.add_transition(a, stateA)\n",
    "stateA.add_transition(b, stateB)\n",
    "stateB.add_transition(a, stateC)\n",
    "stateB.add_transition(c, stateB)\n",
    "\n",
    "# Finaly we create the moore machine with the alphabets and states previously created \n",
    "moore_machine = MooreMachineAutomaton(input_alphabet, output_alphabet, initial_state=stateA, states=set([stateA, stateB, stateC]), comparator=ComparisonStrategy, name=\"moore machine with 3 states\", exportingStrategies=[DotExportingMMStrategy()])\n",
    "\n",
    "# Moore machine is exported in the directory ./output_models/moore_machines/ with .dot extension\n",
    "moore_machine.export('./output_models/moore_machines/')"
   ]
  },
  {
   "cell_type": "markdown",
   "metadata": {},
   "source": [
    "### Moore machine generator"
   ]
  },
  {
   "cell_type": "markdown",
   "metadata": {},
   "source": [
    "#### Dependencies"
   ]
  },
  {
   "cell_type": "code",
   "execution_count": 20,
   "metadata": {},
   "outputs": [],
   "source": [
    "from pythautomata.utilities.nicaud_mm_generator import generate_moore_machine"
   ]
  },
  {
   "cell_type": "markdown",
   "metadata": {},
   "source": [
    "#### Implementation"
   ]
  },
  {
   "cell_type": "code",
   "execution_count": 26,
   "metadata": {},
   "outputs": [],
   "source": [
    "# Number of states\n",
    "number_of_states = 90\n",
    "\n",
    "generated_moore_machine = generate_moore_machine(input_alphabet, output_alphabet, number_of_states, seed=100)\n",
    "# The seed is an optional param\n",
    "\n",
    "# Moore machine is exported in the directory ./output_models/moore_machines/\n",
    "generated_moore_machine.export('./output_models/moore_machines/')"
   ]
  },
  {
   "cell_type": "code",
   "execution_count": null,
   "metadata": {},
   "outputs": [],
   "source": [
    "# Generate a random Moore Machine with 500 states\n",
    "input_alphabet = Alphabet.from_strings([\"a\", \"b\", \"c\"])\n",
    "output_alphabet = Alphabet.from_strings(['0', '1'])\n",
    "seed = 100\n",
    "number_of_states = 500\n",
    "automata = generate_moore_machine(input_alphabet, output_alphabet, number_of_states, seed)"
   ]
  },
  {
   "cell_type": "markdown",
   "metadata": {},
   "source": [
    "### DFA - moore machine comparator and converter"
   ]
  },
  {
   "cell_type": "markdown",
   "metadata": {},
   "source": [
    "#### Dependencies"
   ]
  },
  {
   "cell_type": "code",
   "execution_count": 28,
   "metadata": {},
   "outputs": [],
   "source": [
    "from pythautomata.model_comparators.moore_machine_comparison_strategy import MooreMachineComparisonStrategy\n",
    "from pythautomata.utilities.automata_converter import AutomataConverter\n",
    "from pythautomata.automata_definitions.tomitas_grammars import TomitasGrammars\n",
    "from pythautomata.automata_definitions.sample_moore_machines import SampleMooreMachines"
   ]
  },
  {
   "cell_type": "markdown",
   "metadata": {},
   "source": [
    "#### Implementation"
   ]
  },
  {
   "cell_type": "code",
   "execution_count": 29,
   "metadata": {},
   "outputs": [
    {
     "data": {
      "text/plain": [
       "True"
      ]
     },
     "execution_count": 29,
     "metadata": {},
     "output_type": "execute_result"
    }
   ],
   "source": [
    "# Tomitas DFA example\n",
    "tomitas = TomitasGrammars.get_automaton_1()\n",
    "\n",
    "# Convert tomitas DFA to moore machine\n",
    "converted_moore_machine = AutomataConverter.convert_dfa_to_moore_machine(tomitas)\n",
    "\n",
    "# Manually created tomitas moore machine\n",
    "tomitas_moore_machine = SampleMooreMachines.get_tomitas_automaton_1()\n",
    "\n",
    "# Comparate tomitas automatons\n",
    "converted_moore_machine.__eq__(tomitas_moore_machine)"
   ]
  },
  {
   "cell_type": "code",
   "execution_count": 19,
   "metadata": {},
   "outputs": [
    {
     "name": "stdout",
     "output_type": "stream",
     "text": [
      "Defaulting to user installation because normal site-packages is not writeable\n",
      "Requirement already satisfied: pymodelextractor==0.16.0 in /home/martin/.local/lib/python3.9/site-packages (0.16.0)\n",
      "Requirement already satisfied: pythautomata==0.21.1 in /home/martin/.local/lib/python3.9/site-packages (from pymodelextractor==0.16.0) (0.21.1)\n",
      "Requirement already satisfied: scipy<2.0.0,>=1.7.3 in /home/martin/.local/lib/python3.9/site-packages (from pythautomata==0.21.1->pymodelextractor==0.16.0) (1.9.1)\n",
      "Requirement already satisfied: sklearn<0.1,>=0.0 in /home/martin/.local/lib/python3.9/site-packages (from pythautomata==0.21.1->pymodelextractor==0.16.0) (0.0)\n",
      "Requirement already satisfied: numpy in /home/martin/.local/lib/python3.9/site-packages (from pythautomata==0.21.1->pymodelextractor==0.16.0) (1.23.3)\n",
      "Requirement already satisfied: graphviz in /home/martin/.local/lib/python3.9/site-packages (from pythautomata==0.21.1->pymodelextractor==0.16.0) (0.20.1)\n",
      "Requirement already satisfied: scikit-learn in /home/martin/.local/lib/python3.9/site-packages (from sklearn<0.1,>=0.0->pythautomata==0.21.1->pymodelextractor==0.16.0) (1.1.2)\n",
      "Requirement already satisfied: threadpoolctl>=2.0.0 in /home/martin/.local/lib/python3.9/site-packages (from scikit-learn->sklearn<0.1,>=0.0->pythautomata==0.21.1->pymodelextractor==0.16.0) (3.1.0)\n",
      "Requirement already satisfied: joblib>=1.0.0 in /home/martin/.local/lib/python3.9/site-packages (from scikit-learn->sklearn<0.1,>=0.0->pythautomata==0.21.1->pymodelextractor==0.16.0) (1.2.0)\n",
      "\n",
      "\u001b[1m[\u001b[0m\u001b[34;49mnotice\u001b[0m\u001b[1;39;49m]\u001b[0m\u001b[39;49m A new release of pip available: \u001b[0m\u001b[31;49m22.2.2\u001b[0m\u001b[39;49m -> \u001b[0m\u001b[32;49m22.3.1\u001b[0m\n",
      "\u001b[1m[\u001b[0m\u001b[34;49mnotice\u001b[0m\u001b[1;39;49m]\u001b[0m\u001b[39;49m To update, run: \u001b[0m\u001b[32;49mpip install --upgrade pip\u001b[0m\n",
      "Note: you may need to restart the kernel to use updated packages.\n"
     ]
    }
   ],
   "source": [
    "%pip install pymodelextractor"
   ]
  },
  {
   "cell_type": "markdown",
   "metadata": {},
   "source": [
    "### Moore machine L*"
   ]
  },
  {
   "cell_type": "markdown",
   "metadata": {},
   "source": [
    "#### Dependencies"
   ]
  },
  {
   "cell_type": "code",
   "execution_count": 30,
   "metadata": {},
   "outputs": [],
   "source": [
    "from pythautomata.model_comparators.moore_machine_comparison_strategy import MooreMachineComparisonStrategy\n",
    "from pymodelextractor.learners.observation_table_learners.mm_lstar_learner import MMLStarLearner as MooreMachineLearner\n",
    "from pymodelextractor.teachers.moore_machines_teacher import MooreMachineTeacher as MMTeacher\n",
    "from pythautomata.automata_definitions.sample_moore_machines import SampleMooreMachines"
   ]
  },
  {
   "cell_type": "markdown",
   "metadata": {},
   "source": [
    "#### Implementation"
   ]
  },
  {
   "cell_type": "code",
   "execution_count": 31,
   "metadata": {},
   "outputs": [
    {
     "name": "stdout",
     "output_type": "stream",
     "text": [
      "**** Started moore machines lstar ****\n",
      " # Starting iteration 1\n",
      "    . Closed table in 0.0s\n",
      "    + Made table consistent in 0.0s\n",
      "    - Made equivalence query in 0.0s\n",
      "  # Iteration 1 ended, duration: 0.0s\n",
      "**** Learning finished in 0.0s using 0 counterexamples & final model ended with 2 states ****\n",
      "\n",
      "Are equal:  True\n",
      "Unexpected exception when exporting Moore Machine - 024be03be37247f79e0504e43eaf0a76: <class 'graphviz.backend.execute.ExecutableNotFound'>\n"
     ]
    }
   ],
   "source": [
    "# Create the Moore Machine Learner that implements the L* algorithm\n",
    "learner = MooreMachineLearner()\n",
    "\n",
    "# Import a sample Moore Machine\n",
    "moore_machine = SampleMooreMachines.get_tomitas_automaton_1()\n",
    "\n",
    "# Create the teacher for the Moore Machine Learner\n",
    "mm_teacher = MMTeacher(moore_machine, MooreMachineComparisonStrategy())\n",
    "\n",
    "# Learn the generated Moore Machine\n",
    "teacher = mm_teacher\n",
    "result = learner.learn(teacher, verbose=True) \n",
    "# verbose=True prints the learning process, the default value is False\n",
    "\n",
    "\n",
    "# Show that the learned Moore Machine is equivalent to the generated Moore Machine\n",
    "print(\"Are equal: \", MooreMachineComparisonStrategy().are_equivalent(\n",
    "    result.model, moore_machine))\n",
    "\n",
    "# Export the learned Moore Machine\n",
    "result.model.export('./output_models/mm_lstar/')"
   ]
  }
 ],
 "metadata": {
  "kernelspec": {
   "display_name": "Python 3",
   "language": "python",
   "name": "python3"
  },
  "language_info": {
   "codemirror_mode": {
    "name": "ipython",
    "version": 3
   },
   "file_extension": ".py",
   "mimetype": "text/x-python",
   "name": "python",
   "nbconvert_exporter": "python",
   "pygments_lexer": "ipython3",
   "version": "3.9.13"
  },
  "orig_nbformat": 4,
  "vscode": {
   "interpreter": {
    "hash": "f0fe363e8ab1410fba4120e165ad8d88c45f7211f02c52f0870ffe77e2f67f72"
   }
  }
 },
 "nbformat": 4,
 "nbformat_minor": 2
}
